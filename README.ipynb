{
 "cells": [
  {
   "cell_type": "raw",
   "metadata": {},
   "source": [
    "---\n",
    "title: \"truncate_gradient\"\n",
    "date: 2018-08-29T09:00:00+02:00\n",
    "draft: false\n",
    "tags: [\"truncate_gradient\", \"truncated gradient descent\", \"stopping criteria\", \"gradient descent\", \"numerical optimization\"]\n",
    "---"
   ]
  },
  {
   "cell_type": "markdown",
   "metadata": {},
   "source": [
    "### Don't Update for One Iteration Step\n",
    "Take gradients out of the game for one iteration if gradients are below a certain threshold\n",
    "\n",
    "$$\n",
    "\\nabla f(x_i) = \\begin{cases}\n",
    "  0, & \\text{if } | \\nabla f(x_i) | < TolGrad, \\\\\n",
    "  \\nabla f(x_i), & \\text{otherwise}.\n",
    "\\end{cases}\n",
    "$$\n",
    "\n",
    "Truncating  gradients to zero means that these parameters are not updated for the next iteration. \n"
   ]
  },
  {
   "cell_type": "markdown",
   "metadata": {},
   "source": [
    "### C Implementation"
   ]
  },
  {
   "cell_type": "code",
   "execution_count": 1,
   "metadata": {
    "ExecuteTime": {
     "end_time": "2018-08-29T07:00:08.642768Z",
     "start_time": "2018-08-29T07:00:08.320298Z"
    }
   },
   "outputs": [
    {
     "name": "stdout",
     "output_type": "stream",
     "text": [
      " 0.3\n",
      " 0.2\n",
      " 0.0\n",
      " 0.0\n",
      " 0.0\n",
      "-0.2\n",
      "-0.3\n"
     ]
    }
   ],
   "source": [
    "#include <stdio.h> //printf\n",
    "#include <math.h>  //fabs\n",
    "\n",
    "void truncate_gradient(double* g, int n, double tolgrad)\n",
    "{\n",
    "    for(int i=0; i<n; i++){\n",
    "        if(fabs(g[i]) < tolgrad){\n",
    "            g[i] = 0.0;\n",
    "        }\n",
    "    }\n",
    "}\n",
    "\n",
    "int main(){\n",
    "    int n = 7;\n",
    "    double g[] = {.3, .2, .1, .0, -.1, -.2, -.3};\n",
    "    double tolgrad = 0.15;\n",
    "    \n",
    "    truncate_gradient(g, n, tolgrad);\n",
    "    \n",
    "    for(int i=0; i<n; i++){\n",
    "        printf(\"%4.1f\\n\", g[i]);\n",
    "    }\n",
    "}\n"
   ]
  }
 ],
 "metadata": {
  "kernelspec": {
   "display_name": "C",
   "language": "c",
   "name": "c"
  },
  "language_info": {
   "file_extension": ".c",
   "mimetype": "text/plain",
   "name": "c"
  },
  "toc": {
   "base_numbering": 1,
   "nav_menu": {},
   "number_sections": true,
   "sideBar": true,
   "skip_h1_title": false,
   "title_cell": "Table of Contents",
   "title_sidebar": "Contents",
   "toc_cell": false,
   "toc_position": {},
   "toc_section_display": true,
   "toc_window_display": false
  },
  "varInspector": {
   "cols": {
    "lenName": 16,
    "lenType": 16,
    "lenVar": 40
   },
   "kernels_config": {
    "python": {
     "delete_cmd_postfix": "",
     "delete_cmd_prefix": "del ",
     "library": "var_list.py",
     "varRefreshCmd": "print(var_dic_list())"
    },
    "r": {
     "delete_cmd_postfix": ") ",
     "delete_cmd_prefix": "rm(",
     "library": "var_list.r",
     "varRefreshCmd": "cat(var_dic_list()) "
    }
   },
   "types_to_exclude": [
    "module",
    "function",
    "builtin_function_or_method",
    "instance",
    "_Feature"
   ],
   "window_display": false
  }
 },
 "nbformat": 4,
 "nbformat_minor": 2
}
